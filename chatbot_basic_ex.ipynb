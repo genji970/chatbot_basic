{
  "nbformat": 4,
  "nbformat_minor": 0,
  "metadata": {
    "colab": {
      "provenance": [],
      "machine_shape": "hm",
      "gpuType": "L4"
    },
    "kernelspec": {
      "name": "python3",
      "display_name": "Python 3"
    },
    "language_info": {
      "name": "python"
    },
    "accelerator": "GPU"
  },
  "cells": [
    {
      "cell_type": "markdown",
      "source": [
        "# **openai api , faiss를 부른다**"
      ],
      "metadata": {
        "id": "zJrUJKnFLBgk"
      }
    },
    {
      "cell_type": "code",
      "source": [
        "pip install faiss-cpu openai # faiss는 openai 호출 전 rag활용 목적"
      ],
      "metadata": {
        "colab": {
          "base_uri": "https://localhost:8080/"
        },
        "id": "EjmZ7LKALA4O",
        "outputId": "d1eb6b73-70f0-4484-a419-4fa7659aa210"
      },
      "execution_count": 1,
      "outputs": [
        {
          "output_type": "stream",
          "name": "stdout",
          "text": [
            "Requirement already satisfied: faiss-cpu in /usr/local/lib/python3.10/dist-packages (1.9.0)\n",
            "Requirement already satisfied: openai in /usr/local/lib/python3.10/dist-packages (0.28.0)\n",
            "Requirement already satisfied: numpy<3.0,>=1.25.0 in /usr/local/lib/python3.10/dist-packages (from faiss-cpu) (1.26.4)\n",
            "Requirement already satisfied: packaging in /usr/local/lib/python3.10/dist-packages (from faiss-cpu) (24.1)\n",
            "Requirement already satisfied: requests>=2.20 in /usr/local/lib/python3.10/dist-packages (from openai) (2.32.3)\n",
            "Requirement already satisfied: tqdm in /usr/local/lib/python3.10/dist-packages (from openai) (4.66.6)\n",
            "Requirement already satisfied: aiohttp in /usr/local/lib/python3.10/dist-packages (from openai) (3.10.10)\n",
            "Requirement already satisfied: charset-normalizer<4,>=2 in /usr/local/lib/python3.10/dist-packages (from requests>=2.20->openai) (3.4.0)\n",
            "Requirement already satisfied: idna<4,>=2.5 in /usr/local/lib/python3.10/dist-packages (from requests>=2.20->openai) (3.10)\n",
            "Requirement already satisfied: urllib3<3,>=1.21.1 in /usr/local/lib/python3.10/dist-packages (from requests>=2.20->openai) (2.2.3)\n",
            "Requirement already satisfied: certifi>=2017.4.17 in /usr/local/lib/python3.10/dist-packages (from requests>=2.20->openai) (2024.8.30)\n",
            "Requirement already satisfied: aiohappyeyeballs>=2.3.0 in /usr/local/lib/python3.10/dist-packages (from aiohttp->openai) (2.4.3)\n",
            "Requirement already satisfied: aiosignal>=1.1.2 in /usr/local/lib/python3.10/dist-packages (from aiohttp->openai) (1.3.1)\n",
            "Requirement already satisfied: attrs>=17.3.0 in /usr/local/lib/python3.10/dist-packages (from aiohttp->openai) (24.2.0)\n",
            "Requirement already satisfied: frozenlist>=1.1.1 in /usr/local/lib/python3.10/dist-packages (from aiohttp->openai) (1.5.0)\n",
            "Requirement already satisfied: multidict<7.0,>=4.5 in /usr/local/lib/python3.10/dist-packages (from aiohttp->openai) (6.1.0)\n",
            "Requirement already satisfied: yarl<2.0,>=1.12.0 in /usr/local/lib/python3.10/dist-packages (from aiohttp->openai) (1.17.0)\n",
            "Requirement already satisfied: async-timeout<5.0,>=4.0 in /usr/local/lib/python3.10/dist-packages (from aiohttp->openai) (4.0.3)\n",
            "Requirement already satisfied: typing-extensions>=4.1.0 in /usr/local/lib/python3.10/dist-packages (from multidict<7.0,>=4.5->aiohttp->openai) (4.12.2)\n",
            "Requirement already satisfied: propcache>=0.2.0 in /usr/local/lib/python3.10/dist-packages (from yarl<2.0,>=1.12.0->aiohttp->openai) (0.2.0)\n"
          ]
        }
      ]
    },
    {
      "cell_type": "code",
      "source": [
        "import openai\n",
        "import os\n",
        "import faiss\n",
        "import numpy as np\n",
        "from sentence_transformers import SentenceTransformer # sentence_transformers로 단어간이 아니라 문장 간의 유사성을 벡터공간에서 찾는다\n",
        "import torch\n",
        "from transformers import AutoTokenizer, AutoModelForCausalLM\n",
        "from transformers import pipeline\n"
      ],
      "metadata": {
        "colab": {
          "base_uri": "https://localhost:8080/"
        },
        "id": "U4rJ40JFTasA",
        "outputId": "8428a536-af27-445e-b8fc-fab4f722b1cb"
      },
      "execution_count": 2,
      "outputs": [
        {
          "output_type": "stream",
          "name": "stderr",
          "text": [
            "/usr/local/lib/python3.10/dist-packages/sentence_transformers/cross_encoder/CrossEncoder.py:13: TqdmExperimentalWarning: Using `tqdm.autonotebook.tqdm` in notebook mode. Use `tqdm.tqdm` instead to force console mode (e.g. in jupyter console)\n",
            "  from tqdm.autonotebook import tqdm, trange\n"
          ]
        }
      ]
    },
    {
      "cell_type": "code",
      "source": [
        "openai.api_key = \"Your api key\""
      ],
      "metadata": {
        "id": "egCi8zfZLKvf"
      },
      "execution_count": 3,
      "outputs": []
    },
    {
      "cell_type": "markdown",
      "source": [
        "# **문서 임베딩 공간 생성**"
      ],
      "metadata": {
        "id": "WNiq3LAZT5of"
      }
    },
    {
      "cell_type": "markdown",
      "source": [
        "document"
      ],
      "metadata": {
        "id": "x1Fa97LmvBlJ"
      }
    },
    {
      "cell_type": "code",
      "source": [
        "#문서 리스트 정의 (임베딩할 텍스트 데이터)\n",
        "documents = [\n",
        "    \"...\"\n",
        "]"
      ],
      "metadata": {
        "id": "nZaLBvX1vBts"
      },
      "execution_count": 4,
      "outputs": []
    },
    {
      "cell_type": "code",
      "source": [
        "# 사전 학습된 임베딩 모델 로드 (예: all-MiniLM-L6-v2)\n",
        "embedding_model = SentenceTransformer(\"embedding_model\")\n",
        "doc_embeddings = embedding_model.encode(documents)"
      ],
      "metadata": {
        "id": "K827M1T4T_Qn",
        "colab": {
          "base_uri": "https://localhost:8080/"
        },
        "outputId": "dc1499be-928c-4c53-a97a-4f9e994add96"
      },
      "execution_count": 5,
      "outputs": [
        {
          "output_type": "stream",
          "name": "stderr",
          "text": [
            "/usr/local/lib/python3.10/dist-packages/huggingface_hub/utils/_token.py:89: UserWarning: \n",
            "The secret `HF_TOKEN` does not exist in your Colab secrets.\n",
            "To authenticate with the Hugging Face Hub, create a token in your settings tab (https://huggingface.co/settings/tokens), set it as secret in your Google Colab and restart your session.\n",
            "You will be able to reuse this secret in all of your notebooks.\n",
            "Please note that authentication is recommended but still optional to access public models or datasets.\n",
            "  warnings.warn(\n",
            "/usr/local/lib/python3.10/dist-packages/transformers/tokenization_utils_base.py:1601: FutureWarning: `clean_up_tokenization_spaces` was not set. It will be set to `True` by default. This behavior will be depracted in transformers v4.45, and will be then set to `False` by default. For more details check this issue: https://github.com/huggingface/transformers/issues/31884\n",
            "  warnings.warn(\n"
          ]
        }
      ]
    },
    {
      "cell_type": "code",
      "source": [
        "# 2. FAISS 인덱스 구축\n",
        "index = faiss.IndexFlatL2(doc_embeddings.shape[1])  # L2 거리 사용\n",
        "index.add(np.array(doc_embeddings))  # 임베딩 추가"
      ],
      "metadata": {
        "id": "skxO2RzbUBm1"
      },
      "execution_count": 6,
      "outputs": []
    },
    {
      "cell_type": "code",
      "source": [
        "# 3. 질문을 통한 관련 문서 검색\n",
        "def retrieve_relevant_documents(query, top_k=2):\n",
        "    query_embedding = embedding_model.encode([query])\n",
        "    distances, indices = index.search(np.array(query_embedding), top_k)\n",
        "    return [documents[i] for i in indices[0]]"
      ],
      "metadata": {
        "id": "n1_PrYUJUX0c"
      },
      "execution_count": 7,
      "outputs": []
    },
    {
      "cell_type": "markdown",
      "source": [
        "## **ChatGPT API 호출**"
      ],
      "metadata": {
        "id": "pSdwEGVvLQe3"
      }
    },
    {
      "cell_type": "code",
      "source": [
        "# 4. ChatGPT API 호출\n",
        "def generate_answer(query):\n",
        "    # 질문에 관련된 문서 검색\n",
        "    related_docs = retrieve_relevant_documents(query)\n",
        "    context = \"\\n\".join(related_docs)  # 검색된 문서들을 하나의 텍스트로 결합\n",
        "\n",
        "    # ChatGPT API 호출\n",
        "    response = openai.ChatCompletion.create(\n",
        "        model=\"gpt-4o-mini\",\n",
        "        messages=[\n",
        "            {\"role\": \"system\", \"content\": \"You are a helpful assistant.\"},\n",
        "            {\"role\": \"user\", \"content\": f\"Context: {context}\\nQuestion: {query}\"},\n",
        "        ],\n",
        "        max_tokens=1000,\n",
        "        temperature=0.7\n",
        "    )\n",
        "\n",
        "    return response.choices[0].message[\"content\"]"
      ],
      "metadata": {
        "id": "dzfbShbTLRJU"
      },
      "execution_count": 8,
      "outputs": []
    },
    {
      "cell_type": "markdown",
      "source": [
        "# **출력 결과**"
      ],
      "metadata": {
        "id": "tuMohSOYLdpH"
      }
    },
    {
      "cell_type": "markdown",
      "source": [
        "질문"
      ],
      "metadata": {
        "id": "y94U8y-MU93E"
      }
    },
    {
      "cell_type": "code",
      "source": [
        "query = \"What can Python be used for?\""
      ],
      "metadata": {
        "id": "3_8etcpxU-BB"
      },
      "execution_count": 9,
      "outputs": []
    },
    {
      "cell_type": "markdown",
      "source": [
        "# **generate_answer에 오류가 생기므로 openai 버전을 downgrade시킨다**"
      ],
      "metadata": {
        "id": "_jXCe2WWYJPe"
      }
    },
    {
      "cell_type": "code",
      "source": [
        "!pip install openai==0.28"
      ],
      "metadata": {
        "colab": {
          "base_uri": "https://localhost:8080/"
        },
        "id": "IyLdaugQYNlW",
        "outputId": "441b9f94-1449-42ad-e06a-f484c213c209"
      },
      "execution_count": 10,
      "outputs": [
        {
          "output_type": "stream",
          "name": "stdout",
          "text": [
            "Requirement already satisfied: openai==0.28 in /usr/local/lib/python3.10/dist-packages (0.28.0)\n",
            "Requirement already satisfied: requests>=2.20 in /usr/local/lib/python3.10/dist-packages (from openai==0.28) (2.32.3)\n",
            "Requirement already satisfied: tqdm in /usr/local/lib/python3.10/dist-packages (from openai==0.28) (4.66.6)\n",
            "Requirement already satisfied: aiohttp in /usr/local/lib/python3.10/dist-packages (from openai==0.28) (3.10.10)\n",
            "Requirement already satisfied: charset-normalizer<4,>=2 in /usr/local/lib/python3.10/dist-packages (from requests>=2.20->openai==0.28) (3.4.0)\n",
            "Requirement already satisfied: idna<4,>=2.5 in /usr/local/lib/python3.10/dist-packages (from requests>=2.20->openai==0.28) (3.10)\n",
            "Requirement already satisfied: urllib3<3,>=1.21.1 in /usr/local/lib/python3.10/dist-packages (from requests>=2.20->openai==0.28) (2.2.3)\n",
            "Requirement already satisfied: certifi>=2017.4.17 in /usr/local/lib/python3.10/dist-packages (from requests>=2.20->openai==0.28) (2024.8.30)\n",
            "Requirement already satisfied: aiohappyeyeballs>=2.3.0 in /usr/local/lib/python3.10/dist-packages (from aiohttp->openai==0.28) (2.4.3)\n",
            "Requirement already satisfied: aiosignal>=1.1.2 in /usr/local/lib/python3.10/dist-packages (from aiohttp->openai==0.28) (1.3.1)\n",
            "Requirement already satisfied: attrs>=17.3.0 in /usr/local/lib/python3.10/dist-packages (from aiohttp->openai==0.28) (24.2.0)\n",
            "Requirement already satisfied: frozenlist>=1.1.1 in /usr/local/lib/python3.10/dist-packages (from aiohttp->openai==0.28) (1.5.0)\n",
            "Requirement already satisfied: multidict<7.0,>=4.5 in /usr/local/lib/python3.10/dist-packages (from aiohttp->openai==0.28) (6.1.0)\n",
            "Requirement already satisfied: yarl<2.0,>=1.12.0 in /usr/local/lib/python3.10/dist-packages (from aiohttp->openai==0.28) (1.17.0)\n",
            "Requirement already satisfied: async-timeout<5.0,>=4.0 in /usr/local/lib/python3.10/dist-packages (from aiohttp->openai==0.28) (4.0.3)\n",
            "Requirement already satisfied: typing-extensions>=4.1.0 in /usr/local/lib/python3.10/dist-packages (from multidict<7.0,>=4.5->aiohttp->openai==0.28) (4.12.2)\n",
            "Requirement already satisfied: propcache>=0.2.0 in /usr/local/lib/python3.10/dist-packages (from yarl<2.0,>=1.12.0->aiohttp->openai==0.28) (0.2.0)\n"
          ]
        }
      ]
    },
    {
      "cell_type": "code",
      "source": [
        "#질문에 대한 답변 생성\n",
        "answer = generate_answer(query)\n",
        "print(\"Answer:\", answer)"
      ],
      "metadata": {
        "colab": {
          "base_uri": "https://localhost:8080/"
        },
        "id": "Yt5liUYGLdzh",
        "outputId": "521889c9-1903-410e-b174-e3e47a619ade"
      },
      "execution_count": 11,
      "outputs": [
        {
          "output_type": "stream",
          "name": "stdout",
          "text": [
            "Answer: Python can be used for a wide variety of applications, including but not limited to:\n",
            "\n",
            "1. **Web Development**: Python can be used to build web applications using frameworks like Django and Flask.\n",
            "\n",
            "2. **Data Analysis and Visualization**: Libraries such as Pandas, NumPy, and Matplotlib allow for data manipulation and visualization, making Python popular in data science.\n",
            "\n",
            "3. **Machine Learning and AI**: Python is widely used for machine learning and artificial intelligence development with libraries like TensorFlow, Keras, and Scikit-learn.\n",
            "\n",
            "4. **Automation and Scripting**: Python is often used to automate repetitive tasks, such as file manipulation, web scraping, and data entry.\n",
            "\n",
            "5. **Game Development**: Libraries like Pygame allow for the creation of games and multimedia applications.\n",
            "\n",
            "6. **Internet of Things (IoT)**: Python can be used to program IoT devices, including smart home devices such as smart air conditioners, leveraging libraries for hardware interaction.\n",
            "\n",
            "7. **Web Scraping**: With libraries like BeautifulSoup and Scrapy, Python can be used to extract data from websites.\n",
            "\n",
            "8. **Desktop Applications**: Python can be used to create desktop applications using GUI frameworks like Tkinter or PyQt.\n",
            "\n",
            "9. **Networking**: Python can be used to build network applications, including servers and clients, using its built-in libraries.\n",
            "\n",
            "10. **Educational Purposes**: Python's simple syntax makes it a popular choice for teaching programming concepts and computer science.\n",
            "\n",
            "In the context of the smart air conditioner XY-123, Python could be used to interact with its APIs for temperature control and voice recognition, handle requests, and manage the rate limits to avoid the 429 status code.\n"
          ]
        }
      ]
    }
  ]
}